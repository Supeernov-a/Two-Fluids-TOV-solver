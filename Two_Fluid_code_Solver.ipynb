{
  "cells": [
    {
      "cell_type": "markdown",
      "source": [
        "# Two-Fluids Solver"
      ],
      "metadata": {
        "id": "G5bnFLaKcNZ6"
      }
    },
    {
      "cell_type": "markdown",
      "source": [
        "To find the solutions to Two-fluids TOV equations,\n",
        "the hydrostatic equilibrium solutions, we have employed\n",
        "numerical methods and used an open-source code, Collier [1] available at zenodo, which was modfied according our needs. The equations to be solved are:\n",
        "\n",
        "\\begin{equation}\n",
        "\\begin{split}\n",
        "    \\frac{dp_{BM}}{dr} & = - \\big(p_{BM}+\\rho_{BM}\\big)\\frac{\\big( GM_{T}+4\\pi r^3P_{T}\\big)}{r\\big(r- 2GM_{T}\\big)}\\\\\n",
        "    \\frac{dp_{DM}}{dr} & = -\\big(p_{DM}+\\rho_{DM}\\big)\\frac{\\big( GM_{T}+4\\pi r^3P_{T}\\big)}{r\\big(r- 2GM_{T}\\big)}.\n",
        "\\end{split}\n",
        "\\end{equation}\n",
        "To solve two-fluid TOV equations, we have to impose two central conditions, at the center of the stars $m_{BM}(r = 0) = m_{DM}(r = 0) = 0$, and two boundary conditions at those points where the individual pressures drop down to zero, $p_{BM}(R_{BM}) = 0$ and $p_{DM}(R_{DM}) = 0$."
      ],
      "metadata": {
        "id": "Zj5nHfTnaM_j"
      }
    },
    {
      "cell_type": "markdown",
      "metadata": {
        "id": "trR4jKuJySj4"
      },
      "source": [
        "## Principal code"
      ]
    },
    {
      "cell_type": "markdown",
      "metadata": {
        "id": "dWv-jFIuSF48"
      },
      "source": [
        "### First Part"
      ]
    },
    {
      "cell_type": "code",
      "execution_count": 6,
      "metadata": {
        "id": "lwmCZT5H3o5_"
      },
      "outputs": [],
      "source": [
        "from tqdm import tqdm\n",
        "import numpy as np\n",
        "import matplotlib\n",
        "import matplotlib.pyplot as plt\n",
        "import matplotlib.cm as cm\n",
        "from matplotlib.gridspec import GridSpec\n",
        "from scipy.integrate import solve_ivp, odeint\n",
        "\n",
        "from scipy.optimize import root\n",
        "import warnings\n",
        "import gc\n",
        "\n",
        "\n",
        "#physical constants\n",
        "el = 1.60217662*10**(-19)\n",
        "c = 2.99792458*10**8\n",
        "h = 6.63*10**(-34)\n",
        "GSI = 6.67408*10**(-11)\n",
        "hbar = 1.054571800 * 10**(-34)\n",
        "G = GSI*((el*10**6/(hbar*c))**3 * (c**2/(el*10**6))**(-1) * (hbar/(el*10**6))**(2)) # Gravitational constant expressed in natural units\n"
      ]
    },
    {
      "cell_type": "markdown",
      "metadata": {
        "id": "b2yw--0tSEnt"
      },
      "source": [
        "### Second Part"
      ]
    },
    {
      "cell_type": "code",
      "execution_count": 1,
      "metadata": {
        "id": "ZIr4v4_e3puq"
      },
      "outputs": [],
      "source": [
        "#A class of functions which calculate radii of the neutron star outputting (1 radius,2 radius, radius).\n",
        "#Calling the class outputs a function, the input when calling in the function is the proportion of the central density at which the radius of the compact object lies.\n",
        "class simple_rad_def:\n",
        "    def __init__(self,proportion):\n",
        "        self.proportion = proportion\n",
        "    def __call__(self,invdNS1,invdNS2,mNS):\n",
        "        if invdNS1[0][-1] ==0.0:\n",
        "            R2 = interpolate_array(invdNS2[0][-1]*1e-9,invdNS2)\n",
        "            R1 = 0.0\n",
        "        elif invdNS2[0][-1] == 0.0:\n",
        "            R1 = interpolate_array(4*145**4,invdNS1)\n",
        "            R2 = 0.0\n",
        "        else:\n",
        "            R1 = interpolate_array(4*145**4,invdNS1)\n",
        "            R2 = interpolate_array(invdNS2[0][-1]*1e-9,invdNS2)\n",
        "        radiusmass = interpolate_array(max([R1,R2]),mNS)\n",
        "        invmNS = np.array([mNS[1],mNS[0]])\n",
        "        R = interpolate_array((1-self.proportion)*radiusmass,invmNS)\n",
        "        return(R1,R2,R)\n",
        "raddefault = simple_rad_def(1e-4)"
      ]
    },
    {
      "cell_type": "markdown",
      "metadata": {
        "id": "i_ZYX7HASLqu"
      },
      "source": [
        "### Third Part"
      ]
    },
    {
      "cell_type": "code",
      "execution_count": 3,
      "metadata": {
        "id": "-uYMLjlr36JO"
      },
      "outputs": [],
      "source": [
        "#interpolates between 2 points to guess the value of a function between those points\n",
        "def interpolate(x1,y1,x2,y2,xc):\n",
        "    m = (y1-y2)/(x1-x2)\n",
        "    return(y1+ m*(xc-x1))\n",
        "\n",
        "#takes in an array np.array([xs,ys]) (xs and ys are arrays of points ) which represents a bunch of points x_i,y_i on some function, this function takes in an x value and\n",
        "#interpolates y(x) on the smallest interval (x_i,x_i+1) in which the x value lies.\n",
        "def interpolate_array(r, genericarray):\n",
        "    rmin = genericarray[0,0]\n",
        "    rmax = genericarray[0,-1]\n",
        "    if rmin<r:\n",
        "        L = len(genericarray[0])\n",
        "        indexRANGE = [0,L-1]\n",
        "        rRANGE = [rmin,rmax]\n",
        "        for i in range(int(np.ceil(np.log2(L)))):\n",
        "            indexchecked = int(np.ceil((indexRANGE[0]+indexRANGE[1])/2))\n",
        "            rchecked = genericarray[0,indexchecked]\n",
        "            if rchecked >= r:\n",
        "                rRANGE = [rRANGE[0],rchecked]\n",
        "                indexRANGE = [indexRANGE[0],indexchecked]\n",
        "            elif rchecked < r:\n",
        "                rRANGE = [rchecked,rRANGE[1]]\n",
        "                indexRANGE = [indexchecked,indexRANGE[1]]\n",
        "            if indexRANGE[1]-indexRANGE[0] == 1:\n",
        "                break\n",
        "        if r>= rmax:\n",
        "            return(genericarray[1,-1])\n",
        "        return(interpolate(rRANGE[0],genericarray[1,indexRANGE[0]],rRANGE[1],genericarray[1,indexRANGE[1]],r))\n",
        "\n",
        "    elif rmin>=r:\n",
        "        return(genericarray[1,-1])\n",
        "\n",
        "#joins 2 arrays np.array([xs1,ys1]) np.array([xs2,ys2]) to np.array([xs,ys]) where xs = [xs_11, ...xs_1N,xs_21 ... xs_2M] and similar for ys\n",
        "def joinarray(ar1,ar2):\n",
        "    A = np.append(ar1[0],ar2[0])\n",
        "    B = np.append(ar1[1],ar2[1])\n",
        "    return(np.array([A,B]))\n",
        "\n",
        "#takes in 2 2*N arrays assumed to have the same first row, outputs a new array with the same first row but the respective terms in the second row added together\n",
        "#Useful for e.g. combining density profiles of matter and dark matter to get the total density profiles (densities add but radii do not)\n",
        "def addarray(ar1,ar2):\n",
        "    return(np.array([np.array(ar1[0]),np.array(ar1[1])+np.array(ar2[1])]))\n",
        "\n",
        "#If no dark matter, this is taken as the equation of state for the dark matter\n",
        "def ZEROFUNC(rho):\n",
        "    return(0)\n",
        "\n",
        "#numerically calculates the derivatives of pressure with respect to density for both the nuclear and dark matter components of the star. Outputs them in order (NM,DM)\n",
        "def dp_drhos(EOS1,EOS2,rho1,rho2,drho1,drho2):\n",
        "    return((EOS1(rho1+drho1/2)-EOS1(rho1-drho1/2))/drho1,(EOS2(rho2+drho2/2)-EOS2(rho2-drho2/2))/drho2)\n",
        "\n",
        "#Input \"variables\" is an array [density1,mass1,density2,mass2], output is a similar array of the respective derivatives. Also takes in 2 EOS's for our 2 types of matter and the r coordinate at\n",
        "#at which its evaluated.\n",
        "def derivatives(r,variables,EOS1,EOS2,drho1,drho2):\n",
        "    rho1 = variables[0]\n",
        "    m1 = variables[1]\n",
        "    rho2 = variables[2]\n",
        "    m2 = variables[3]\n",
        "\n",
        "    p1 = EOS1(rho1)\n",
        "    p2 = EOS2(rho2)\n",
        "\n",
        "    p = p1 + p2\n",
        "    rho = rho1 + rho2\n",
        "    m = m1 + m2\n",
        "\n",
        "    dm1_dr = 4*np.pi*r**2 * rho1\n",
        "    dm2_dr = 4*np.pi*r**2 * rho2\n",
        "\n",
        "    dp1_drho1, dp2_drho2 = dp_drhos(EOS1,EOS2,rho1,rho2,drho1,drho2)\n",
        "\n",
        "    dp1_dr = -(p1 + rho1)*(G*m+4*np.pi*G*r**3 *p)/(r*(r-2*G*m))\n",
        "    dp2_dr = -(p2 + rho2)*(G*m+4*np.pi*G*r**3 *p)/(r*(r-2*G*m))\n",
        "\n",
        "    if dp1_drho1 ==0:\n",
        "        drho1_dr = 0\n",
        "    else:\n",
        "        drho1_dr = dp1_dr/dp1_drho1\n",
        "    if dp2_drho2 == 0:\n",
        "        drho2_dr = 0\n",
        "    else:\n",
        "        drho2_dr = dp2_dr/dp2_drho2\n",
        "\n",
        "    return([drho1_dr,dm1_dr,drho2_dr,dm2_dr])\n",
        "\n",
        "\n",
        "\n",
        "#This is probably the most important bit of the code - the class takes in all relevant information about the compact object and is capable of calculating various profiles (density, mass, pressure)\n",
        "#it does this by solving the TOV equations. The class can also calculate the tidal love number of the neutron star, along with its mass, 1 and 2 matter masses, radius, 1 and 2 matter radii.\n",
        "#BASIC USAGE INSTRUCTIONS: Object = Compact_Object(EOS1, EOS2in = EOS2) creates a compact object with the given 1 and 2 equations of state.\n",
        "#Then, Object.profiles_data(central density of type 1 matter, [minimum r, maximum r],centraldensity2 = central density of type 2 matter) will produce information about the structure of the compact\n",
        "#object which is saved inside Object.\n",
        "class Compact_Object:\n",
        "    def __init__(self,state_eq, EOS2in = ZEROFUNC):\n",
        "        self.EqOState1 = state_eq\n",
        "        self.EqOState2 = EOS2in\n",
        "        self.RadDef = raddefault\n",
        "        self.method = 'Radau'\n",
        "        self.tol = 0.000001\n",
        "\n",
        "    def Derivatives(self,r,variables):\n",
        "        return(derivatives(r,variables,self.EqOState1,self.EqOState2,self.drho1,self.drho2))\n",
        "\n",
        "\n",
        "    def profiles_data(self,centraldensity1,rspan,centraldensity2 = 0.0):\n",
        "        self.centraldensity1 = centraldensity1\n",
        "        self.centraldensity2 = centraldensity2\n",
        "        self.drho1 = 10\n",
        "        if centraldensity2 !=0:\n",
        "            self.drho2 = centraldensity2*1e-8\n",
        "        else:\n",
        "            self.drho2 = 10\n",
        "        rspan = (rspan[0],rspan[1])\n",
        "        def EV(t,y):\n",
        "            return(min([y[0]-4*145**4,y[2]-self.centraldensity2*10**(-8)]))\n",
        "        EV.terminal = True\n",
        "\n",
        "        def EV2(t,y):\n",
        "            return(max([y[0]-4*145**4,y[2]-self.centraldensity2*10**(-8)]))\n",
        "        EV2.terminal = True\n",
        "        if min([centraldensity1,centraldensity2])!= 0.0:\n",
        "            OUTinit = solve_ivp(self.Derivatives,rspan,[centraldensity1,4/3 * np.pi * rspan[0]**3*centraldensity1,centraldensity2,4/3 * np.pi * rspan[0]**3*centraldensity2],events = EV,method = self.method,atol = self.tol, rtol = self.tol)\n",
        "            self.density1 = np.array([np.array(OUTinit.t),np.array(OUTinit.y[0])])\n",
        "            self.density2 = np.array([np.array(OUTinit.t),np.array(OUTinit.y[2])])\n",
        "            self.mass1 = np.array([np.array(OUTinit.t),np.array(OUTinit.y[1])])\n",
        "            self.mass2 = np.array([np.array(OUTinit.t),np.array(OUTinit.y[3])])\n",
        "        else:\n",
        "            self.density1 = np.array([np.array([rspan[0]]),np.array([centraldensity1])])\n",
        "            self.density2 = np.array([np.array([rspan[0]]),np.array([centraldensity2])])\n",
        "            self.mass1 = np.array([np.array([rspan[0]]),np.array([0.0])])\n",
        "            self.mass2 = np.array([np.array([rspan[0]]),np.array([0.0])])\n",
        "\n",
        "        rspannew = (self.density1[0][-1],rspan[1])\n",
        "        if self.density2[1][-1] != self.density1[1][-1]:\n",
        "            if self.centraldensity1 == 0:\n",
        "                OUTfin = solve_ivp(self.Derivatives,rspannew,[0.0,self.mass1[1][-1],self.density2[1][-1],self.mass2[1][-1]],events = EV2,method = self.method,atol = self.tol, rtol = self.tol)\n",
        "                self.density1 = joinarray(self.density1,np.array([np.array(OUTfin.t),np.array(OUTfin.y[0])]))\n",
        "                self.density2 = joinarray(self.density2,np.array([np.array(OUTfin.t),np.array(OUTfin.y[2])]))\n",
        "            elif self.centraldensity2 == 0:\n",
        "                OUTfin = solve_ivp(self.Derivatives,rspannew,[self.density1[1][-1],self.mass1[1][-1],0.0,self.mass2[1][-1]],events = EV2,method = self.method,atol = self.tol, rtol = self.tol)\n",
        "                self.density1 = joinarray(self.density1,np.array([np.array(OUTfin.t),np.array(OUTfin.y[0])]))\n",
        "                self.density2 = joinarray(self.density2,np.array([np.array(OUTfin.t),np.array(OUTfin.y[2])]))\n",
        "            elif self.density2[1][-1]/self.centraldensity2 > self.density1[1][-1]/self.centraldensity1:\n",
        "                OUTfin = solve_ivp(self.Derivatives,rspannew,[0.0,self.mass1[1][-1],self.density2[1][-1],self.mass2[1][-1]],events = EV2,method = self.method,atol = self.tol, rtol = self.tol)\n",
        "                self.density1 = joinarray(self.density1,np.array([np.array(OUTfin.t),np.array(OUTfin.y[0])]))\n",
        "                self.density2 = joinarray(self.density2,np.array([np.array(OUTfin.t),np.array(OUTfin.y[2])]))\n",
        "            elif self.density2[1][-1]/self.centraldensity2 < self.density1[1][-1]/self.centraldensity1:\n",
        "                OUTfin = solve_ivp(self.Derivatives,rspannew,[self.density1[1][-1],self.mass1[1][-1],0.0,self.mass2[1][-1]],events = EV2,method = self.method,atol = self.tol, rtol = self.tol)\n",
        "                self.density1 = joinarray(self.density1,np.array([np.array(OUTfin.t),np.array(OUTfin.y[0])]))\n",
        "                self.density2 = joinarray(self.density2,np.array([np.array(OUTfin.t),np.array(OUTfin.y[2])]))\n",
        "\n",
        "            self.mass1 = joinarray(self.mass1,np.array([np.array(OUTfin.t),np.array(OUTfin.y[1])]))\n",
        "            self.mass2 = joinarray(self.mass2,np.array([np.array(OUTfin.t),np.array(OUTfin.y[3])]))\n",
        "\n",
        "        densityinverted2 = np.array([self.density2[1][::-1],self.density2[0][::-1]])\n",
        "        densityinverted1 = np.array([self.density1[1][::-1],self.density1[0][::-1]])\n",
        "        self.massT = addarray(self.mass1,self.mass2)\n",
        "        self.R1,self.R2,self.R = self.RadDef(densityinverted1, densityinverted2,self.massT)\n",
        "\n",
        "        pressuresm = []\n",
        "        pressuresdm = []\n",
        "        for i in range(len(self.density1[1])):\n",
        "            pressuresm.append(self.EqOState1(self.density1[1][i]))\n",
        "            pressuresdm.append(self.EqOState2(self.density2[1][i]))\n",
        "        self.pressure1 = np.array([np.array(self.density1[0]),np.array(pressuresm)])\n",
        "        self.pressure2 = np.array([np.array(self.density2[0]),np.array(pressuresdm)])\n",
        "        self.pressureT = addarray(self.pressure1,self.pressure2)\n",
        "        self.densityT = addarray(self.density1,self.density2)\n",
        "        self.totalEOS = np.array([self.densityT[1],self.pressureT[1]])\n",
        "        if self.R1 == 0.0:\n",
        "            self.M1 = 0.0\n",
        "        else:\n",
        "            self.M1 = interpolate_array(self.R1, self.mass1)\n",
        "        if self.R2 == 0.0:\n",
        "            self.M2 = 0.0\n",
        "        else:\n",
        "            self.M2 = interpolate_array(self.R2, self.mass2)\n",
        "\n",
        "        if self.M2 == None:\n",
        "            plt.plot(self.density2[0],self.density2[1])\n",
        "            plt.plot(self.density1[0],self.density1[1])\n",
        "            plt.yscale(\"log\")\n",
        "            plt.xscale(\"log\")\n",
        "        self.M = interpolate_array(self.R,self.massT)\n",
        "\n",
        "\n",
        "\n",
        "#Finds central densities in matter and dark matter subject to 2 constraints: The sum of the densities has a known fixed value, the proportion of the mass that is type 2 matter has a fixed value.\n",
        "#This proves to be very useful for making neutron star stability curves with fixed 2 matter-1 matter mass ratios.\n",
        "#The inputs are (in order) 1 matter EOS, 2 matter EOS, total central density, 2 matter lower bound central density, 2 matter upper bound central density,\n",
        "#[minimum r evaluated, maximum r evaluated], True if want love number outputted, False if dont, tol = % tolerance on mass ratio, runtol = tolerance on ODE solving\n",
        "#Outputs dictionary containing, central 2 type densities, 1 type matter radius, 2 type matter radius, radius, 1 mass, 2 mass, mass, tidal deformability (if lovenum = True)\n",
        "def find_density_for_mass_ratio(EOS1,EOS2, ratio, tol,centraldensityT,rho2guessmin,rho2guessmax,rspan,lovenum,RunTol, cumulative = False,RadDef = raddefault, METHOD = 'Radau'):\n",
        "    testol = (tol)**0.2\n",
        "    rho2range = [rho2guessmin,rho2guessmax]\n",
        "\n",
        "    if ratio == 0.0:\n",
        "        rho2range = [0,0]\n",
        "\n",
        "    ratios = []\n",
        "    CAUGHT = False\n",
        "\n",
        "    if cumulative != False and ratio!=0:\n",
        "        rho0 = cumulative[-1]\n",
        "        drho0 = cumulative[-1] - cumulative[-2]\n",
        "        ddrho0 = (cumulative[-1] - cumulative[-2])-(cumulative[-2] - cumulative[-3])\n",
        "        var = drho0+ddrho0/2\n",
        "        j = Compact_Object(EOS1,EOS2in = EOS2)\n",
        "        j.RadDef = raddefault\n",
        "        j.method = METHOD\n",
        "        j.tol = RunTol\n",
        "        j.profiles_data(centraldensityT-rho0-var*(1+testol),rspan,centraldensity2 = rho0+var*(1+testol))\n",
        "        testrat = []\n",
        "\n",
        "        testrat.append(j.M2/j.M1)\n",
        "        j = Compact_Object(EOS1,EOS2in = EOS2)\n",
        "        j.method = METHOD\n",
        "        j.tol = RunTol\n",
        "        j.profiles_data(centraldensityT-rho0-var*(1-testol),rspan,centraldensity2 = rho0+var*(1-testol))\n",
        "        testrat.append(j.M2/j.M1)\n",
        "        testrat.sort()\n",
        "\n",
        "        if testrat[0]<ratio<testrat[1]:\n",
        "            CAUGHT = True\n",
        "            rho2range = [rho0+var*(1-testol),rho0+var*(1+testol)]\n",
        "            ratios = testrat\n",
        "\n",
        "\n",
        "    if cumulative == False or CAUGHT == False:\n",
        "        for i in rho2range:\n",
        "            j = Compact_Object(EOS1,EOS2in = EOS2)\n",
        "            j.RadDef = RadDef\n",
        "            j.method = METHOD\n",
        "            j.tol = RunTol\n",
        "            j.profiles_data(centraldensityT-i,rspan,centraldensity2 = i)\n",
        "            if j.M1 == 0.0 and i != centraldensityT:\n",
        "                print(\"BROKEN! Central density 1: \"+str(centraldensityT-i) +\"Central density 2: \"+str(i))\n",
        "            if j.centraldensity1!= 0:\n",
        "                ratios.append(j.M2/j.M1)\n",
        "            else:\n",
        "                ratios.append(1e100)\n",
        "            del j\n",
        "        ratios2 = ratios\n",
        "        ratios.sort()\n",
        "        rho2range.sort()\n",
        "        if ratios2 != ratios:\n",
        "            rho2range = [rho2range[1],rho2range[0]]\n",
        "\n",
        "    while True:\n",
        "        j = Compact_Object(EOS1,EOS2in = EOS2)\n",
        "\n",
        "        if ratio == 0.0:\n",
        "            rhotest = 0.0\n",
        "        else:\n",
        "            rhotest = (rho2range[0]+rho2range[1])/2\n",
        "\n",
        "        j.RadDef = RadDef\n",
        "        j.method = METHOD\n",
        "        j.tol = RunTol\n",
        "        j.profiles_data(centraldensityT-rhotest,rspan,rhotest)\n",
        "        if j.M2/j.M1>=ratio:\n",
        "            ratios = [ratios[0],j.M2/j.M1]\n",
        "            rho2range[1] = rhotest\n",
        "        elif j.M2/j.M1<ratio:\n",
        "            ratios = [j.M2/j.M1,ratios[1]]\n",
        "            rho2range[0] = rhotest\n",
        "        if abs(ratios[1]-ratios[0])<=tol*ratio or abs(2*(rho2range[1]-rho2range[0])/(rho2range[0]+rho2range[1]))<tol*ratio*1e-3:\n",
        "            break\n",
        "    centraldensity1 = centraldensityT-(rho2range[0]+rho2range[1])/2\n",
        "    return({'centraldensity1':centraldensity1,\"centraldensity2\":(rho2range[0]+rho2range[1])/2 , \"DM\":j.M2,\"M1\":j.M1,\"M\":j.M,\"R\":j.R,\"R1\":j.R1,\"R2\":j.R2,\"ratio\":j.M2/j.M1})\n",
        "\n",
        "#given an array of pressures outputs: 1 radius, 2 radius, radius, 1 mass, 2 mass, mass, tidal deformability (if lovenum = True)\n",
        "#Takes in 1 EOS, 2 EOS, array of densities, 2-1 mass ratio, rspan as before, lovenumb as before, tol as before, runtol as before, METHOD is method used to solve ODE, RadDef is radius\n",
        "#definition function i.e. simple_rad_def element\n",
        "def mass_radius_lovenum(EOS1, EOS2, rho2range, ratio = 0.0, rspan = [1e5,1e25], lovenum =False, tol = 1e-3, RadDef = raddefault, METHOD = 'Radau', RunTol = 1e-5):\n",
        "    Rs = []\n",
        "    Rs2 = []\n",
        "    Rs1 = []\n",
        "    Ms = []\n",
        "    Ms1 = []\n",
        "    Ms2 = []\n",
        "    k2s = []\n",
        "    centraldensity1s = []\n",
        "    centraldensity2s = []\n",
        "    centraldensityTs = []\n",
        "\n",
        "    j = 0\n",
        "    for i in tqdm(rho2range):\n",
        "        j+=1\n",
        "        if len(centraldensity2s)>2:\n",
        "            thecumulative = centraldensity2s\n",
        "        else:\n",
        "            thecumulative = False\n",
        "        J = find_density_for_mass_ratio(EOS1,EOS2,ratio,tol,i,i,0,rspan,lovenum,RunTol,cumulative = thecumulative,RadDef = RadDef, METHOD = METHOD)\n",
        "        Rs.append(J[\"R\"])\n",
        "        Rs2.append(J[\"R2\"])\n",
        "        Rs1.append(J[\"R1\"])\n",
        "        Ms.append(J[\"M\"])\n",
        "        Ms1.append(J[\"M1\"])\n",
        "        Ms2.append(J[\"DM\"])\n",
        "        centraldensity2s.append(J[\"centraldensity2\"])\n",
        "        centraldensity1s.append(J[\"centraldensity1\"])\n",
        "\n",
        "    return((hbar*c/(el*1e9))*np.array(Rs),(hbar*c/(el*1e9))*np.array(Rs1),(hbar*c/(el*1e9))*np.array(Rs2),np.array(Ms)*1.6e-13/((3e8)**2 *1.989e30),np.array(Ms1)*1.6e-13/((3e8)**2 *1.989e30),np.array(Ms2)*1.6e-13/((3e8)**2 *1.989e30),np.array(centraldensity1s)/((10**15*hbar*c)/(el*10**6))**3,np.array(centraldensity2s)/((10**15*hbar*c)/(el*10**6))**3)"
      ]
    },
    {
      "cell_type": "code",
      "execution_count": 23,
      "metadata": {
        "id": "2Beet8J337ws"
      },
      "outputs": [],
      "source": [
        "#EOS for boson stars.\n",
        "class Bosonic_EOS:\n",
        "    def __init__(self,m,l):\n",
        "        self.m = m\n",
        "        self.l = l\n",
        "    def __call__(self,rho):\n",
        "      return((self.m**4/(9*self.l))*(np.sqrt(1+(3*self.l/self.m**4)*rho)-1)**2)\n",
        "\n",
        "# Bag EOS\n",
        "class Bag:\n",
        "  def __init__(self,B):\n",
        "    self.B = B\n",
        "\n",
        "  def __call__(self, rho):\n",
        "    C = self.B**4\n",
        "\n",
        "    if rho>0:\n",
        "      p = (1/3)*(rho-4*C)\n",
        "      return p\n",
        "    else:\n",
        "      return 0\n",
        "\n",
        "\n"
      ]
    },
    {
      "cell_type": "markdown",
      "source": [
        "## Illustrative example"
      ],
      "metadata": {
        "id": "7h2Gdjx4yY0w"
      }
    },
    {
      "cell_type": "code",
      "source": [
        "R99 = simple_rad_def(0.01)\n",
        "Boson = Bosonic_EOS(400,np.pi)\n",
        "Bag = Bag(145)"
      ],
      "metadata": {
        "id": "VyAuO8YpewDE"
      },
      "execution_count": null,
      "outputs": []
    },
    {
      "cell_type": "code",
      "source": [
        "Rs,RsM,RsDM,Ms,MsM,MsDM,Ec1,Ec2 = mass_radius_lovenum(Bag,ZEROFUNC,np.logspace(9.26,11.3,100),rspan = [1e-1,1e60],ratio = 0 ,METHOD = 'RK23',RadDef = R99,RunTol = 1e-5,tol = 1e-4)\n",
        "plt.plot(Rs,Ms, label = r'MIT Bag Model  $B^{1/4}$ = 145 MeV ')\n",
        "plt.xlim(0,12)\n",
        "plt.ylim(0,2.5)\n",
        "plt.axhspan(2, 2.2, color='#96E2E2', alpha=0.3)\n",
        "\n",
        "plt.xlabel(r'$R [Km]')\n",
        "plt.ylabel(r'Mass $[M_{\\odot}]$')\n",
        "plt.legend(loc='best')\n",
        "plt.minorticks_on()\n",
        "plt.show()"
      ],
      "metadata": {
        "colab": {
          "base_uri": "https://localhost:8080/",
          "height": 472
        },
        "id": "9OVr_V1qudjP",
        "outputId": "c00b7721-e563-4400-bf5c-b10c421c36ba"
      },
      "execution_count": 26,
      "outputs": [
        {
          "output_type": "stream",
          "name": "stderr",
          "text": [
            "100%|██████████| 100/100 [00:36<00:00,  2.73it/s]\n"
          ]
        },
        {
          "output_type": "display_data",
          "data": {
            "text/plain": [
              "<Figure size 640x480 with 1 Axes>"
            ],
            "image/png": "[encoded data removed]"
          },
          "metadata": {}
        }
      ]
    },
    {
      "cell_type": "markdown",
      "source": [
        "## Future works\n"
      ],
      "metadata": {
        "id": "WnVrTRxmhC42"
      }
    },
    {
      "cell_type": "markdown",
      "source": [
        "When speaking about stability condition for one fluid, the necessary, but not enough, condition for the stability of stars along the sequence equilibrium configuration is based on\n",
        "the following inequality:\n",
        "\\begin{equation}\n",
        "    \\frac{\\partial M(\\rho_{{c}})}{\\partial \\epsilon_{c}} > 0\\;.\n",
        "\\end{equation}\n",
        "or equivalent to $\\frac{\\partial N(\\rho_{{c}})}{\\partial \\epsilon_{c}} > 0$.\n",
        "The last condition is no more valid by considering two fluid, for such case we need to generalize the above condition\n",
        "\\begin{equation}\n",
        " \\begin{pmatrix}\n",
        " \\delta N_{BM}\\\\\n",
        " \\delta N_{DM}\n",
        "\\end{pmatrix} =  \\begin{pmatrix}\n",
        " \\frac{\\partial N_{BM}}{\\partial \\epsilon^{c}_{BM}} & \\frac{\\partial N_{BM}}{\\partial \\epsilon^{c}_{DM}} \\\\\n",
        "\\frac{\\partial N_{DM}}{\\partial \\epsilon^{c}_{BM}}  & \\frac{\\partial N_{DM}}{\\partial \\epsilon^{c}_{DM}}\n",
        "\\end{pmatrix} \\begin{pmatrix}\n",
        " \\delta \\epsilon^{c}_{BM}\\\\\n",
        " \\delta \\epsilon^{c}_{DM}\n",
        "\\end{pmatrix}\n",
        "\\end{equation}\n",
        "For a two-fluid configuration[3], the above matrix can\n",
        "be diagonalized obtaining two independent sets of variables,$(ϵ_{A},N_{A})$ and $(ϵ_{B},N_{B})$  , with eigenvalues $\\kappa_{A}$ and\n",
        "$\\kappa_{B}$. Stable configurations can only happen when both\n",
        "eigenvalues, $\\kappa_{A}$ and $\\kappa_{B}$, are positive.  We are working in improve the above code to find the stability condition for two fluids."
      ],
      "metadata": {
        "id": "LVdf9UFFhG3N"
      }
    },
    {
      "cell_type": "markdown",
      "source": [
        "# References\n",
        "\n",
        "   [1] Michael Collier, Djuna Croon, Rebecca K. Leane, \"Tidal Love Numbers of Novel and Admixed Celestial Objects\", **Phys. Rev. D** 106, 123027 (2022). Doi : https://journals.aps.org/prd/abstract/10.1103/PhysRevD.106.123027\n",
        "\n",
        "   [2] Open-Source code to solve the tidal deformability of a gravity bound sphere of perfect fluid containing upto two fluids coupled through gravity only. https://zenodo.org/records/6584578.\n",
        "\n",
        "   [3] Maurício Hippert, Emily Dillingham, Hung Tan, David Curtin, Jacquelyn Noronha-Hostler, and Nicolás Yunes, \"Dark matter or regular matter in neutron stars? How to tell the difference from the coalescence of compact objects\", **Phys. Rev. D** 107, 115028 (2023), Doi : https://journals.aps.org/prd/abstract/10.1103/PhysRevD.107.115028\n",
        "\n"
      ],
      "metadata": {
        "id": "TSNfQ1hMfJuw"
      }
    }
  ],
  "metadata": {
    "colab": {
      "provenance": [],
      "toc_visible": true
    },
    "kernelspec": {
      "display_name": "Python 3",
      "name": "python3"
    },
    "language_info": {
      "name": "python"
    }
  },
  "nbformat": 4,
  "nbformat_minor": 0
}